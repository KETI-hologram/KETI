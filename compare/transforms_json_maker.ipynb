{
 "cells": [
  {
   "cell_type": "code",
   "execution_count": 1,
   "id": "c865afdb",
   "metadata": {},
   "outputs": [],
   "source": [
    "import os\n",
    "import json"
   ]
  },
  {
   "cell_type": "code",
   "execution_count": 2,
   "id": "7cb1bc0e",
   "metadata": {},
   "outputs": [],
   "source": [
    "cur = os.getcwd() + '/exp'\n",
    "file_list = os.listdir(cur)"
   ]
  },
  {
   "cell_type": "code",
   "execution_count": 3,
   "id": "cb401a5e",
   "metadata": {},
   "outputs": [],
   "source": [
    "class_list = []\n",
    "for word in file_list:\n",
    "    if 'D' in word and 'off' in word:\n",
    "        class_list.append(word)"
   ]
  },
  {
   "cell_type": "code",
   "execution_count": 4,
   "id": "725bf593",
   "metadata": {},
   "outputs": [],
   "source": [
    "class_list.sort()"
   ]
  },
  {
   "cell_type": "code",
   "execution_count": 5,
   "id": "0b8ee7e3",
   "metadata": {},
   "outputs": [
    {
     "data": {
      "text/plain": [
       "['D15_V50_off',\n",
       " 'D22.5_V40_off',\n",
       " 'D30_V50_off',\n",
       " 'D37.5_V40_off',\n",
       " 'D45_V50_off',\n",
       " 'D52.5_V40_off',\n",
       " 'D60_V50_off',\n",
       " 'D67.5_V40_off',\n",
       " 'D75_V50_off']"
      ]
     },
     "execution_count": 5,
     "metadata": {},
     "output_type": "execute_result"
    }
   ],
   "source": [
    "class_list"
   ]
  },
  {
   "cell_type": "code",
   "execution_count": 6,
   "id": "4bb9ae8c",
   "metadata": {},
   "outputs": [],
   "source": [
    "def read(dataClass):\n",
    "    dataList = os.listdir(cur+'/'+ dataClass)\n",
    "    depthList = []\n",
    "    rgbList = []\n",
    "    for word in dataList:\n",
    "        if 'transform' in word:\n",
    "            continue\n",
    "        if 'depth' in word:\n",
    "            depthList.append(word)\n",
    "        else:\n",
    "            rgbList.append(word)\n",
    "    return depthList, rgbList"
   ]
  },
  {
   "cell_type": "code",
   "execution_count": 9,
   "id": "34150ce1",
   "metadata": {},
   "outputs": [
    {
     "name": "stdout",
     "output_type": "stream",
     "text": [
      "train:250, val:80, test:80\n"
     ]
    }
   ],
   "source": [
    "train = []\n",
    "tandv = []\n",
    "for word in class_list:\n",
    "    with open(cur+'/'+word+'/transforms.json') as json_file:\n",
    "        json_data = json.load(json_file)\n",
    "    if 'V40' in word:\n",
    "        tandv = tandv + json_data['frames']\n",
    "    else:\n",
    "        train = train + json_data['frames']\n",
    "val = []\n",
    "test = []\n",
    "for i in range(len(tandv)):\n",
    "    if i%2 == 0 :\n",
    "        val.append(tandv[i])\n",
    "    else:\n",
    "        test.append(tandv[i])\n",
    "print(f'train:{len(train)}, val:{len(val)}, test:{len(test)}')"
   ]
  },
  {
   "cell_type": "code",
   "execution_count": 11,
   "id": "70e28a40",
   "metadata": {},
   "outputs": [],
   "source": [
    "with open(cur+'/transforms_train.json', \"r\") as json_file:\n",
    "        json_data = json.load(json_file)\n",
    "json_data['frames'] = train\n",
    "with open(cur+'/transforms_train.json', \"w\") as outfile:\n",
    "        json.dump(json_data, outfile, indent = 4)"
   ]
  },
  {
   "cell_type": "code",
   "execution_count": 12,
   "id": "ee61066e",
   "metadata": {},
   "outputs": [],
   "source": [
    "with open(cur+'/transforms_val.json', \"r\") as json_file:\n",
    "        json_data = json.load(json_file)\n",
    "json_data['frames'] = val\n",
    "with open(cur+'/transforms_val.json', \"w\") as outfile:\n",
    "        json.dump(json_data, outfile, indent = 4)"
   ]
  },
  {
   "cell_type": "code",
   "execution_count": 13,
   "id": "b0369e91",
   "metadata": {},
   "outputs": [],
   "source": [
    "with open(cur+'/transforms_test.json', \"r\") as json_file:\n",
    "        json_data = json.load(json_file)\n",
    "json_data['frames'] = test\n",
    "with open(cur+'/transforms_test.json', \"w\") as outfile:\n",
    "        json.dump(json_data, outfile, indent = 4)"
   ]
  },
  {
   "cell_type": "code",
   "execution_count": null,
   "id": "d4be62a4",
   "metadata": {},
   "outputs": [],
   "source": []
  }
 ],
 "metadata": {
  "kernelspec": {
   "display_name": "Python 3",
   "language": "python",
   "name": "python3"
  },
  "language_info": {
   "codemirror_mode": {
    "name": "ipython",
    "version": 3
   },
   "file_extension": ".py",
   "mimetype": "text/x-python",
   "name": "python",
   "nbconvert_exporter": "python",
   "pygments_lexer": "ipython3",
   "version": "3.8.8"
  }
 },
 "nbformat": 4,
 "nbformat_minor": 5
}
